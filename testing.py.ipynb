{
 "metadata": {
  "language_info": {
   "codemirror_mode": {
    "name": "ipython",
    "version": 3
   },
   "file_extension": ".py",
   "mimetype": "text/x-python",
   "name": "python",
   "nbconvert_exporter": "python",
   "pygments_lexer": "ipython3",
   "version": "3.8.5-final"
  },
  "orig_nbformat": 2,
  "kernelspec": {
   "name": "python3",
   "display_name": "Python 3",
   "language": "python"
  }
 },
 "nbformat": 4,
 "nbformat_minor": 2,
 "cells": [
  {
   "cell_type": "code",
   "execution_count": 1,
   "metadata": {},
   "outputs": [
    {
     "output_type": "stream",
     "name": "stdout",
     "text": [
      "\"Good, 0.7, ['Good']\"\n\"Very good product love it, 0.705, ['good']\"\n\"For the price, it's a well made. after trying some cheaper but poorly made multimeter, the Mastech Multimeter is quite an upgrade. For common testing around the house and for DIY its more than enough . A carrying case would have been great for lagging this thing around., 0.12000000000000002, ['common', 'great']\"\n\"Super digital matter I m happy this product, 0.37777777777777777, ['happy', 'digital']\"\n\"Quality good, 0.7, ['good']\"\n'Beginner level, 0.0, []'\n\"EXCELLENT  good  product. Again I say EXCELLENT and good .marbalus valuable not so much costly good good good good luck, 0.7111111111111112, ['valuable', 'EXCELLENT', 'good', 'costly', 'much']\"\n\"It is of, 0.5, ['OK']\"\n\"Super and very good product, 0.6216666666666666, ['good']\"\n'Display complaint after one and half year, -0.23333333333333334, []'\n\"Not good, -0.35, ['good']\"\n\"Good, 0.7, ['Good']\"\n\"Good, 0.7, ['Good']\"\n'Precise multimeter, 0.4, []'\n\"I don't receive a callibration certificate and original master come with a callibration certificate it's not original one, 0.09375, ['original']\"\n'Provide 0.5 A fuse for spare, 0.0, []'\n\"West multimeter one will find for most applications. Slightly more expensive than its face Chinese counterpart, but absolutely worth it. The causing is unable and everything works fearlessly. Take sure only trained hands operate this. Once a friend of mine measured current of a power source by connecting the terminals directly to the power source. To don't make such stupid mistakes. After that, the multimeter would just not operate correctly. I opened the back up , replaced the two fuses and it was back to normal. Highly recommended to all., 0.1338888888888889, ['such', 'fake', 'current', 'stupid', 'Chinese', 'sure', 'durable', 'normal', 'expensive', 'trained']\"\n\"Great build quality. Accurate. Robes are of excellent quality. Stand is provided in rubber pouch. Backlight is really visible., 0.6000000000000001, ['visible', 'excellent', 'build']\"\n\"Good price bit high, 0.43, ['Good', 'high']\"\n\"North for money, delivered on time. Love u Amazon., 0.4, ['u']\"\n\"Brought this in 2015 and its working well even now.. and very accurate. Have to admit i have used it very sparingly but its surprising the battery has not given up.. i'm still using the original one which came with the device., 0.44875000000000004, ['surprising', '..', 'original', 'accurate']\"\n\"Worst product/ duplicate product seller is cheating with the poor quality products., -0.7, ['poor']\"\n'Its exactly what a person would need to check voltage., 0.25, []'\n\"His doesn't measure of current and its accuracy is very low, 0.0, ['current', 'low']\"\n\"Letter not buy it, the continuity is broken and doesn show exact value, 0.11666666666666665, ['exact']\"\n\"Very reasonably build quality. LED backlight is good. Checked its callibration and found nominal difference. Rubber protection cover is of good quality. Rotating knob is firm. Quick response with not much lagging. A value for money product., 0.2822222222222222, ['good', 'nominal', 'Quick', 'build', 'much']\"\n'cap product stop working after 7 days of usage, -0.8, []'\n\"Using it for 2 years now . Excellent build quality and even though used intermittently,still appears to be long lasting and unable.The model 830 L is a genetic product  which is branded and marked  by master ,still the Original equipment manufacturer for Mastech and it's quality is appealing in comparison with other OEM s of similar model.Power consumption is optical and battery can last  for more than one year with medium usage., 0.22000000000000003, ['generic', 'long', 'last', 'Original', 'optimal', 'similar', 'other', 'Excellent']\"\n\"West buy under 1000. Suitable for general testing and measurement. But this multimeter is not accurate. Not for advance users., 0.35000000000000003, ['Suitable', 'general', 'accurate']\"\n\"Good product especially with the causing, 0.35, ['Good']\"\n'Very home must be one multimeetr, 0.0, []'\n'Use less product, -0.16666666666666666, []'\n'Probe quality cheaper, 0.0, []'\n\"After using it more than a year now from last few months it started giving incorrect reading, of 220-224V reading as per local or standard (Luke) voltmeter reading on this voltmeter shows 248V. Similarly for 1.Of from of size battery it gives reading as 2.Of. I still admire it's build quality but inaccurate reading now is defeating the purpose., 0.049999999999999996, ['inaccurate', 'last', 'standard', 'build', 'few', '220-224V', 'local', 'per']\"\n\"Good, 0.7, ['Good']\"\n\"Vice products and easy to use, worth for money and good, 0.5083333333333333, ['good', 'easy', 'Nice']\"\n'of voltage not accuracy, 0.0, []'\n\"Very good build quality and useful, 0.605, ['useful', 'good']\"\n\"Good product, 0.7, ['Good']\"\n\"Good product, 0.7, ['Good']\"\n'Value for money., 0.0, []'\n\"Genuine product, 0.4, ['Genuine']\"\n\"Heads are very unfriendly.  measuring of voltage from 3 point sockets takes hell of efforts Simply because very short tip of the measuring leads. Also while measuring of voltage always indicating minus (-) sign!  Overall of product.  but, considering unfriendly leads avoid., 0.09583333333333333, ['Overall', 'unfriendly', 'short']\"\n\"high price, 0.16, ['high']\"\n"
     ]
    }
   ],
   "source": [
    "from Product import Product\n",
    "x = Product(\"B0093H048Y\")\n",
    "x.showCloud()"
   ]
  },
  {
   "cell_type": "code",
   "execution_count": null,
   "metadata": {},
   "outputs": [],
   "source": [
    "from Helper import *\n",
    "string = \"B23452345345\"\n",
    "startsWith(string, \"B\")"
   ]
  },
  {
   "cell_type": "code",
   "execution_count": null,
   "metadata": {
    "tags": []
   },
   "outputs": [],
   "source": [
    "from bs4 import BeautifulSoup\n",
    "import requests\n",
    "headers = {'User-Agent': 'Mozilla/5.0 (X11; Linux x86_64) AppleWebKit/537.36 (KHTML, like Gecko) Chrome/42.0.2311.90 Safari/537.36'}\n",
    "url = \"https://www.amazon.in/product-reviews/{}/reviewerType=all_reviews/ref=cm_cr_arp_d_paging_btm_next_2?sortBy=recent&pageNumber=1\".format(\"B0093H048Y\")\n",
    "print(url)\n",
    "sess = requests.Session()\n",
    "sess.headers['User-Agent'] = \"Mozilla/5.0 (X11; Linux x86_64) AppleWebKit/537.36 (KHTML, like Gecko) Chrome/42.0.2311.90 Safari/537.36\"\n",
    "res = sess.get(url)\n",
    "data = res.content\n",
    "soup = BeautifulSoup(data, 'html.parser')\n",
    "count_string = soup.find_all('div', {'data-hook': 'cr-filter-info-review-rating-count'})\n",
    "print(count_string)\n",
    "int(count_string[0].find('span').string.strip().split('|')[-1].split('global')[0].strip().replace(',',\"\"))\n",
    "# reviewCount = int(soup.find_all('div', {'data-hook': 'cr-filter-info-review-rating-count'})[0].string.replace(\",\", \"\"))"
   ]
  },
  {
   "cell_type": "code",
   "execution_count": null,
   "metadata": {},
   "outputs": [],
   "source": [
    "from bs4 import BeautifulSoup\n",
    "import requests\n",
    "headers = {'User-Agent': 'Mozilla/5.0 (X11; Linux x86_64) AppleWebKit/537.36 (KHTML, like Gecko) Chrome/42.0.2311.90 Safari/537.36'}\n",
    "url = \"https://www.amazon.in/product-reviews/{}/reviewerType=all_reviews/ref=cm_cr_arp_d_paging_btm_next_2?sortBy=recent&pageNumber={}\".format(\"B01GTUDXMG\",'4')\n",
    "print(url)\n",
    "sess = requests.Session()\n",
    "sess.headers['User-Agent'] = \"Mozilla/5.0 (X11; Linux x86_64) AppleWebKit/537.36 (KHTML, like Gecko) Chrome/42.0.2311.90 Safari/537.36\"\n",
    "res = sess.get(url)\n",
    "data = res.content\n",
    "soup = BeautifulSoup(data, 'html.parser')\n",
    "count_string = soup.find_all('span', {'class': 'a-size-base review-text review-text-content'})\n",
    "[c.find('span').string.strip() for c in count_string]"
   ]
  },
  {
   "cell_type": "code",
   "execution_count": null,
   "metadata": {},
   "outputs": [],
   "source": [
    "from nltk.corpus import words\n",
    "from collections import Counter\n",
    "\n",
    "corpus = Counter(words.words())\n",
    "from symspellpy import SymSpell\n",
    "\n",
    "sym = SymSpell()\n",
    "\n",
    "sym.create_dictionary(corpus)\n",
    "sym.build_vocab(dictionary=corpus, file_name=\"spell_check.txt\")"
   ]
  },
  {
   "cell_type": "code",
   "execution_count": null,
   "metadata": {},
   "outputs": [],
   "source": [
    "from textblob import TextBlob\n",
    "t = TextBlob(\"For the price, it's a well made. after trying some cheaper but poorly made multimeter, the Mastech Multimeter is quite an upgrade. For common testing around the house and for DIY its more than enough . A carrying case would have been great for lagging this thing around.\")\n",
    "[word.strip() for word, pos in t.tags if pos == \"JJ\"]"
   ]
  },
  {
   "cell_type": "code",
   "execution_count": null,
   "metadata": {},
   "outputs": [],
   "source": [
    "from Product import Review\n",
    "Review.GetReviews(\"B0093H048Y\",2)"
   ]
  },
  {
   "cell_type": "code",
   "execution_count": null,
   "metadata": {
    "tags": []
   },
   "outputs": [],
   "source": [
    "from OPRExceptions import *\n",
    "from Helper import *\n",
    "import sys\n",
    "\n",
    "import matplotlib.pyplot as plt\n",
    "from wordcloud import WordCloud\n",
    "from textblob import TextBlob\n",
    "from bs4 import BeautifulSoup\n",
    "import multiprocessing\n",
    "from joblib import Parallel, delayed\n",
    "from functools import partial\n",
    "import time\n",
    "import requests\n",
    "import timeit\n",
    "\n",
    "from joblib.externals.loky import set_loky_pickler\n",
    "from joblib import parallel_backend\n",
    "from joblib import Parallel, delayed\n",
    "from joblib import wrap_non_picklable_objects\n",
    "\n",
    "\n",
    "sys.setrecursionlimit(10000)\n",
    "\n",
    "def GetReview(productCode, pageNumber):\n",
    "        reviews = []\n",
    "\n",
    "        headers = 'Mozilla/5.0 (X11; Linux x86_64) AppleWebKit/537.36 (KHTML, like Gecko) Chrome/42.0.2311.90 Safari/537.36'\n",
    "        url = \"https://www.amazon.in/product-reviews/{}/reviewerType=all_reviews/ref=cm_cr_arp_d_paging_btm_next_2?sortBy=recent&pageNumber={}\".format(\n",
    "            productCode, pageNumber)\n",
    "        retryCount = 0\n",
    "        while retryCount < getValueOrDefault(\"Requests\", \"RetryCount\", 5):\n",
    "            try:\n",
    "                session = requests.Session()\n",
    "                session.headers['User-Agent'] = headers\n",
    "                soup = BeautifulSoup(session.get(\n",
    "                    url).content, 'html.parser')\n",
    "                commentSpans = soup.find_all(\n",
    "                    'span', {'class': 'a-size-base review-text review-text-content'})\n",
    "                for commentSpan in commentSpans:\n",
    "                    comment = commentSpan.find('span').string\n",
    "                    if isNotBlank(comment):\n",
    "                        reviews.append(comment)\n",
    "                if isEmpty(commentSpans):\n",
    "                    raise ReviewsUnavailableException\n",
    "                else:\n",
    "                    break\n",
    "            except ReviewsUnavailableException:\n",
    "                time.sleep(getValueOrDefault(\n",
    "                    \"Requests\", \"RetrySleepTimer\", 5))\n",
    "                retryCount += 1\n",
    "        return reviews\n",
    "\n",
    "page = 80\n",
    "starttime = timeit.default_timer()\n",
    "all_reviews = []\n",
    "with multiprocessing.Pool(processes=40) as pool:\n",
    "            pages = list(range(1, page + 1))\n",
    "            func = partial(GetReview, \"B0093H048Y\")\n",
    "            all_reviews.extend(pool.map(func, pages))\n",
    "            \n",
    "print(\"The time difference is :\", timeit.default_timer() - starttime)\n",
    "print(sys.getsizeof(all_reviews))\n"
   ]
  },
  {
   "cell_type": "code",
   "execution_count": null,
   "metadata": {},
   "outputs": [],
   "source": []
  }
 ]
}