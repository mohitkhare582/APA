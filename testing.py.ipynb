{
 "metadata": {
  "language_info": {
   "codemirror_mode": {
    "name": "ipython",
    "version": 3
   },
   "file_extension": ".py",
   "mimetype": "text/x-python",
   "name": "python",
   "nbconvert_exporter": "python",
   "pygments_lexer": "ipython3",
   "version": "3.8.5-final"
  },
  "orig_nbformat": 2,
  "kernelspec": {
   "name": "python3",
   "display_name": "Python 3",
   "language": "python"
  }
 },
 "nbformat": 4,
 "nbformat_minor": 2,
 "cells": [
  {
   "cell_type": "code",
   "execution_count": 1,
   "metadata": {},
   "outputs": [
    {
     "output_type": "error",
     "ename": "AttributeError",
     "evalue": "'Product' object has no attribute 'showCloud'",
     "traceback": [
      "\u001b[0;31m---------------------------------------------------------------------------\u001b[0m",
      "\u001b[0;31mAttributeError\u001b[0m                            Traceback (most recent call last)",
      "\u001b[0;32m<ipython-input-1-5950b2828125>\u001b[0m in \u001b[0;36m<module>\u001b[0;34m\u001b[0m\n\u001b[1;32m      1\u001b[0m \u001b[0;32mfrom\u001b[0m \u001b[0mOnlineProductReviewer\u001b[0m \u001b[0;32mimport\u001b[0m \u001b[0mProduct\u001b[0m\u001b[0;34m\u001b[0m\u001b[0;34m\u001b[0m\u001b[0m\n\u001b[1;32m      2\u001b[0m \u001b[0mx\u001b[0m \u001b[0;34m=\u001b[0m \u001b[0mProduct\u001b[0m\u001b[0;34m(\u001b[0m\u001b[0;34m\"B0093H048Y\"\u001b[0m\u001b[0;34m)\u001b[0m\u001b[0;34m\u001b[0m\u001b[0;34m\u001b[0m\u001b[0m\n\u001b[0;32m----> 3\u001b[0;31m \u001b[0mx\u001b[0m\u001b[0;34m.\u001b[0m\u001b[0mshowCloud\u001b[0m\u001b[0;34m(\u001b[0m\u001b[0;34m)\u001b[0m\u001b[0;34m\u001b[0m\u001b[0;34m\u001b[0m\u001b[0m\n\u001b[0m",
      "\u001b[0;31mAttributeError\u001b[0m: 'Product' object has no attribute 'showCloud'"
     ]
    }
   ],
   "source": [
    "from OnlineProductReviewer import Product\n",
    "x = Product(\"B0093H048Y\")\n",
    "x.showCloud()"
   ]
  },
  {
   "cell_type": "code",
   "execution_count": null,
   "metadata": {},
   "outputs": [],
   "source": [
    "from Helper import *\n",
    "string = \"B23452345345\"\n",
    "startsWith(string, \"B\")"
   ]
  },
  {
   "cell_type": "code",
   "execution_count": null,
   "metadata": {
    "tags": []
   },
   "outputs": [],
   "source": [
    "from bs4 import BeautifulSoup\n",
    "import requests\n",
    "headers = {'User-Agent': 'Mozilla/5.0 (X11; Linux x86_64) AppleWebKit/537.36 (KHTML, like Gecko) Chrome/42.0.2311.90 Safari/537.36'}\n",
    "url = \"https://www.amazon.in/product-reviews/{}/reviewerType=all_reviews/ref=cm_cr_arp_d_paging_btm_next_2?sortBy=recent&pageNumber=1\".format(\"B0093H048Y\")\n",
    "print(url)\n",
    "sess = requests.Session()\n",
    "sess.headers['User-Agent'] = \"Mozilla/5.0 (X11; Linux x86_64) AppleWebKit/537.36 (KHTML, like Gecko) Chrome/42.0.2311.90 Safari/537.36\"\n",
    "res = sess.get(url)\n",
    "data = res.content\n",
    "soup = BeautifulSoup(data, 'html.parser')\n",
    "count_string = soup.find_all('div', {'data-hook': 'cr-filter-info-review-rating-count'})\n",
    "print(count_string)\n",
    "int(count_string[0].find('span').string.strip().split('|')[-1].split('global')[0].strip().replace(',',\"\"))\n",
    "# reviewCount = int(soup.find_all('div', {'data-hook': 'cr-filter-info-review-rating-count'})[0].string.replace(\",\", \"\"))"
   ]
  },
  {
   "cell_type": "code",
   "execution_count": null,
   "metadata": {},
   "outputs": [],
   "source": [
    "from bs4 import BeautifulSoup\n",
    "import requests\n",
    "headers = {'User-Agent': 'Mozilla/5.0 (X11; Linux x86_64) AppleWebKit/537.36 (KHTML, like Gecko) Chrome/42.0.2311.90 Safari/537.36'}\n",
    "url = \"https://www.amazon.in/product-reviews/{}/reviewerType=all_reviews/ref=cm_cr_arp_d_paging_btm_next_2?sortBy=recent&pageNumber={}\".format(\"B01GTUDXMG\",'4')\n",
    "print(url)\n",
    "sess = requests.Session()\n",
    "sess.headers['User-Agent'] = \"Mozilla/5.0 (X11; Linux x86_64) AppleWebKit/537.36 (KHTML, like Gecko) Chrome/42.0.2311.90 Safari/537.36\"\n",
    "res = sess.get(url)\n",
    "data = res.content\n",
    "soup = BeautifulSoup(data, 'html.parser')\n",
    "count_string = soup.find_all('span', {'class': 'a-size-base review-text review-text-content'})\n",
    "[c.find('span').string.strip() for c in count_string]"
   ]
  },
  {
   "cell_type": "code",
   "execution_count": null,
   "metadata": {},
   "outputs": [],
   "source": [
    "from nltk.corpus import words\n",
    "from collections import Counter\n",
    "\n",
    "corpus = Counter(words.words())\n",
    "from symspellpy import SymSpell\n",
    "\n",
    "sym = SymSpell()\n",
    "\n",
    "sym.create_dictionary(corpus)\n",
    "sym.build_vocab(dictionary=corpus, file_name=\"spell_check.txt\")"
   ]
  },
  {
   "cell_type": "code",
   "execution_count": null,
   "metadata": {},
   "outputs": [],
   "source": [
    "from textblob import TextBlob\n",
    "t = TextBlob(\"For the price, it's a well made. after trying some cheaper but poorly made multimeter, the Mastech Multimeter is quite an upgrade. For common testing around the house and for DIY its more than enough . A carrying case would have been great for lagging this thing around.\")\n",
    "[word.strip() for word, pos in t.tags if pos == \"JJ\"]"
   ]
  },
  {
   "cell_type": "code",
   "execution_count": null,
   "metadata": {},
   "outputs": [],
   "source": [
    "from OnlineProductReviewer import Review\n",
    "Review.GetReviews(\"B0093H048Y\",2)"
   ]
  },
  {
   "cell_type": "code",
   "execution_count": null,
   "metadata": {
    "tags": []
   },
   "outputs": [],
   "source": [
    "from OPRExceptions import *\n",
    "from Helper import *\n",
    "import sys\n",
    "\n",
    "import matplotlib.pyplot as plt\n",
    "from wordcloud import WordCloud\n",
    "from textblob import TextBlob\n",
    "from bs4 import BeautifulSoup\n",
    "import multiprocessing\n",
    "from joblib import Parallel, delayed\n",
    "from functools import partial\n",
    "import time\n",
    "import requests\n",
    "import timeit\n",
    "\n",
    "from joblib.externals.loky import set_loky_pickler\n",
    "from joblib import parallel_backend\n",
    "from joblib import Parallel, delayed\n",
    "from joblib import wrap_non_picklable_objects\n",
    "\n",
    "\n",
    "sys.setrecursionlimit(10000)\n",
    "\n",
    "def GetReview(productCode, pageNumber):\n",
    "        reviews = []\n",
    "\n",
    "        headers = 'Mozilla/5.0 (X11; Linux x86_64) AppleWebKit/537.36 (KHTML, like Gecko) Chrome/42.0.2311.90 Safari/537.36'\n",
    "        url = \"https://www.amazon.in/product-reviews/{}/reviewerType=all_reviews/ref=cm_cr_arp_d_paging_btm_next_2?sortBy=recent&pageNumber={}\".format(\n",
    "            productCode, pageNumber)\n",
    "        retryCount = 0\n",
    "        while retryCount < getValueOrDefault(\"Requests\", \"RetryCount\", 5):\n",
    "            try:\n",
    "                session = requests.Session()\n",
    "                session.headers['User-Agent'] = headers\n",
    "                soup = BeautifulSoup(session.get(\n",
    "                    url).content, 'html.parser')\n",
    "                commentSpans = soup.find_all(\n",
    "                    'span', {'class': 'a-size-base review-text review-text-content'})\n",
    "                for commentSpan in commentSpans:\n",
    "                    comment = commentSpan.find('span').string\n",
    "                    if isNotBlank(comment):\n",
    "                        reviews.append(comment)\n",
    "                if isEmpty(commentSpans):\n",
    "                    raise ReviewsUnavailableException\n",
    "                else:\n",
    "                    break\n",
    "            except ReviewsUnavailableException:\n",
    "                time.sleep(getValueOrDefault(\n",
    "                    \"Requests\", \"RetrySleepTimer\", 5))\n",
    "                retryCount += 1\n",
    "        return reviews\n",
    "\n",
    "page = 80\n",
    "starttime = timeit.default_timer()\n",
    "all_reviews = []\n",
    "with multiprocessing.Pool(processes=40) as pool:\n",
    "            pages = list(range(1, page + 1))\n",
    "            func = partial(GetReview, \"B0093H048Y\")\n",
    "            all_reviews.extend(pool.map(func, pages))\n",
    "            \n",
    "print(\"The time difference is :\", timeit.default_timer() - starttime)\n",
    "print(sys.getsizeof(all_reviews))\n"
   ]
  },
  {
   "cell_type": "code",
   "execution_count": null,
   "metadata": {},
   "outputs": [],
   "source": []
  }
 ]
}